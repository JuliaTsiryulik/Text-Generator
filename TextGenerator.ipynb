{
  "nbformat": 4,
  "nbformat_minor": 0,
  "metadata": {
    "colab": {
      "provenance": []
    },
    "kernelspec": {
      "name": "python3",
      "display_name": "Python 3"
    },
    "language_info": {
      "name": "python"
    }
  },
  "cells": [
    {
      "cell_type": "markdown",
      "source": [
        "# Генератор текста на основе цепей Маркова\n",
        "\n",
        "Алгоритм:\n",
        "\n",
        "1. Необходимо взять исходный текст и разбить его на слова.\n",
        "2. Слова, которые стоят рядом, необходимо разбить на пары.\n",
        "3. На основе этих пар, необходимо составить словарь, где будут ключом будет слово, а значениями слова, которые могут следовать после него.\n",
        "4. Нужно выбрать первое слово для старта.\n",
        "5. Необходимо задать длину генерируемого текста и загрузить файл с исходным текстом."
      ],
      "metadata": {
        "id": "a1yNe5Oh7Irg"
      }
    },
    {
      "cell_type": "markdown",
      "source": [
        "## Создание пар слов"
      ],
      "metadata": {
        "id": "1XE-VgD676A-"
      }
    },
    {
      "cell_type": "code",
      "source": [
        "def word_pairs(word_arr):\n",
        "    for i in range(len(word_arr) - 1):\n",
        "        yield(word_arr[i], word_arr[i + 1])"
      ],
      "metadata": {
        "id": "Jv_wwTmV7Nzl"
      },
      "execution_count": 19,
      "outputs": []
    },
    {
      "cell_type": "markdown",
      "source": [
        "# Составление словаря"
      ],
      "metadata": {
        "id": "4GiBN3WU7_K_"
      }
    },
    {
      "cell_type": "code",
      "source": [
        "def words_dict(word_arr):\n",
        "    pair = word_pairs(word_arr)\n",
        "\n",
        "    word_dict = {}\n",
        "\n",
        "    for word_1, word_2 in pair:\n",
        "        if word_1 in word_dict.keys():\n",
        "            word_dict[word_1].append(word_2)\n",
        "        else:\n",
        "            word_dict[word_1] = [word_2]\n",
        "    return word_dict"
      ],
      "metadata": {
        "id": "yINpOZJs7N6I"
      },
      "execution_count": 20,
      "outputs": []
    },
    {
      "cell_type": "markdown",
      "source": [
        "## Генерация текста"
      ],
      "metadata": {
        "id": "LMwyKkSC8gT7"
      }
    },
    {
      "cell_type": "code",
      "source": [
        "import numpy as np\n",
        "import requests\n",
        "\n",
        "def markov_chain_text_generator(words_count, path):\n",
        "    data = requests.get(path).text\n",
        "    data_arr = data.split()\n",
        "\n",
        "    first_word = np.random.choice(data_arr)\n",
        "\n",
        "    while first_word.islower():\n",
        "        first_word = np.random.choice(data_arr)\n",
        "\n",
        "    chain = [first_word]\n",
        "\n",
        "    dictionary = words_dict(data_arr)\n",
        "    \n",
        "    for i in range(words_count):\n",
        "        if chain[-1] in dictionary:\n",
        "            chain.append(np.random.choice(dictionary[chain[-1]]))\n",
        "        else:\n",
        "            chain.append(np.random.choice(list(dictionary.keys())))\n",
        "\n",
        "    for i in range(0, len(chain), 15):\n",
        "        chain.insert(i, '\\n')\n",
        "\n",
        "    return (' '.join(chain))"
      ],
      "metadata": {
        "id": "9TFepyBN7OAu"
      },
      "execution_count": 48,
      "outputs": []
    },
    {
      "cell_type": "markdown",
      "source": [
        "## Выбор исходного текста и длины генерируемого текста"
      ],
      "metadata": {
        "id": "c2HjEJ2T8GWX"
      }
    },
    {
      "cell_type": "code",
      "source": [
        "text_path = 'https://raw.githubusercontent.com/JuliaTsiryulik/Text-Generator/main/TextForGeneration'\n",
        "n = 50\n",
        "\n",
        "print(markov_chain_text_generator(n, text_path))"
      ],
      "metadata": {
        "colab": {
          "base_uri": "https://localhost:8080/"
        },
        "id": "OxYL7FC57OIM",
        "outputId": "68a699ab-ed19-4616-eb11-4167d4a2c42e"
      },
      "execution_count": 61,
      "outputs": [
        {
          "output_type": "stream",
          "name": "stdout",
          "text": [
            "\n",
            " Говорит кому-то: «Ведь теперь тебе ничего? Не страшно? Да?!» Послушайте! Ведь, если звезды зажигают \n",
            " — чтоб обязательно была звезда! — кто-то называет эти плево́чки жемчужиной? И, надрываясь в \n",
            " метелях полу́денной пыли, врывается к богу, боится, что опоздал, плачет, целует ему жилистую руку, \n",
            " просит — кто-то хочет, чтобы они были? Значит —\n"
          ]
        }
      ]
    }
  ]
}